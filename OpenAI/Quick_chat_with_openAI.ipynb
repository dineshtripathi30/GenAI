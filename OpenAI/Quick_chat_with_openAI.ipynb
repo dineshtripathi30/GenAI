{
  "nbformat": 4,
  "nbformat_minor": 0,
  "metadata": {
    "colab": {
      "provenance": [],
      "authorship_tag": "ABX9TyOAYLxWae8Iv3XsQCTUHXwR",
      "include_colab_link": true
    },
    "kernelspec": {
      "name": "python3",
      "display_name": "Python 3"
    },
    "language_info": {
      "name": "python"
    }
  },
  "cells": [
    {
      "cell_type": "markdown",
      "metadata": {
        "id": "view-in-github",
        "colab_type": "text"
      },
      "source": [
        "<a href=\"https://colab.research.google.com/github/dineshtripathi30/GenAI/blob/main/OpenAI/Quick_chat_with_openAI.ipynb\" target=\"_parent\"><img src=\"https://colab.research.google.com/assets/colab-badge.svg\" alt=\"Open In Colab\"/></a>"
      ]
    },
    {
      "cell_type": "markdown",
      "source": [
        "**Install Python openai package**"
      ],
      "metadata": {
        "id": "I3QX7JN_MPXr"
      }
    },
    {
      "cell_type": "code",
      "source": [
        "!pip install --upgrade openai"
      ],
      "metadata": {
        "colab": {
          "base_uri": "https://localhost:8080/"
        },
        "id": "Kq3AhjnpLp_G",
        "outputId": "8f60f3b2-4626-421c-e570-646666dddef6"
      },
      "execution_count": 6,
      "outputs": [
        {
          "output_type": "stream",
          "name": "stdout",
          "text": [
            "Requirement already satisfied: openai in /usr/local/lib/python3.10/dist-packages (1.12.0)\n",
            "Requirement already satisfied: anyio<5,>=3.5.0 in /usr/local/lib/python3.10/dist-packages (from openai) (3.7.1)\n",
            "Requirement already satisfied: distro<2,>=1.7.0 in /usr/lib/python3/dist-packages (from openai) (1.7.0)\n",
            "Requirement already satisfied: httpx<1,>=0.23.0 in /usr/local/lib/python3.10/dist-packages (from openai) (0.26.0)\n",
            "Requirement already satisfied: pydantic<3,>=1.9.0 in /usr/local/lib/python3.10/dist-packages (from openai) (2.6.1)\n",
            "Requirement already satisfied: sniffio in /usr/local/lib/python3.10/dist-packages (from openai) (1.3.0)\n",
            "Requirement already satisfied: tqdm>4 in /usr/local/lib/python3.10/dist-packages (from openai) (4.66.2)\n",
            "Requirement already satisfied: typing-extensions<5,>=4.7 in /usr/local/lib/python3.10/dist-packages (from openai) (4.9.0)\n",
            "Requirement already satisfied: idna>=2.8 in /usr/local/lib/python3.10/dist-packages (from anyio<5,>=3.5.0->openai) (3.6)\n",
            "Requirement already satisfied: exceptiongroup in /usr/local/lib/python3.10/dist-packages (from anyio<5,>=3.5.0->openai) (1.2.0)\n",
            "Requirement already satisfied: certifi in /usr/local/lib/python3.10/dist-packages (from httpx<1,>=0.23.0->openai) (2024.2.2)\n",
            "Requirement already satisfied: httpcore==1.* in /usr/local/lib/python3.10/dist-packages (from httpx<1,>=0.23.0->openai) (1.0.3)\n",
            "Requirement already satisfied: h11<0.15,>=0.13 in /usr/local/lib/python3.10/dist-packages (from httpcore==1.*->httpx<1,>=0.23.0->openai) (0.14.0)\n",
            "Requirement already satisfied: annotated-types>=0.4.0 in /usr/local/lib/python3.10/dist-packages (from pydantic<3,>=1.9.0->openai) (0.6.0)\n",
            "Requirement already satisfied: pydantic-core==2.16.2 in /usr/local/lib/python3.10/dist-packages (from pydantic<3,>=1.9.0->openai) (2.16.2)\n"
          ]
        }
      ]
    },
    {
      "cell_type": "markdown",
      "source": [
        "**Assign OpenAI API Key**"
      ],
      "metadata": {
        "id": "KtE_xr-WXSIR"
      }
    },
    {
      "cell_type": "code",
      "execution_count": 2,
      "metadata": {
        "id": "K1aROn2v57nB",
        "colab": {
          "base_uri": "https://localhost:8080/"
        },
        "outputId": "3099dea4-4f29-457a-be13-b908dd20a10e"
      },
      "outputs": [
        {
          "name": "stdout",
          "output_type": "stream",
          "text": [
            "Please enter your openai key: ··········\n"
          ]
        }
      ],
      "source": [
        "# Get the openai secret key\n",
        "import getpass\n",
        "\n",
        "OPENAI_API_KEY = getpass.getpass('Please enter your openai key: ')"
      ]
    },
    {
      "cell_type": "code",
      "source": [
        "from openai import OpenAI\n",
        "import openai"
      ],
      "metadata": {
        "id": "SEHVjULoPpUF"
      },
      "execution_count": 9,
      "outputs": []
    },
    {
      "cell_type": "markdown",
      "source": [
        "**List available models**"
      ],
      "metadata": {
        "id": "xX0BNXZhaBcV"
      }
    },
    {
      "cell_type": "code",
      "source": [
        "def list_openai_models():\n",
        "    client = openai.OpenAI(api_key=OPENAI_API_KEY)\n",
        "    models = client.models.list()\n",
        "    for model in models:\n",
        "        print(f\"ID: {model.id}\")\n",
        "# Example usage\n",
        "list_openai_models()\n"
      ],
      "metadata": {
        "colab": {
          "base_uri": "https://localhost:8080/"
        },
        "id": "CSiWqWXTYh5y",
        "outputId": "ab1401be-fb0b-4a57-fb34-0720da9ce8c1"
      },
      "execution_count": 11,
      "outputs": [
        {
          "output_type": "stream",
          "name": "stdout",
          "text": [
            "ID: dall-e-3\n",
            "ID: text-embedding-3-large\n",
            "ID: gpt-3.5-turbo-instruct-0914\n",
            "ID: dall-e-2\n",
            "ID: whisper-1\n",
            "ID: gpt-3.5-turbo-16k-0613\n",
            "ID: babbage-002\n",
            "ID: text-embedding-ada-002\n",
            "ID: gpt-3.5-turbo-16k\n",
            "ID: gpt-3.5-turbo-0125\n",
            "ID: gpt-3.5-turbo\n",
            "ID: text-embedding-3-small\n",
            "ID: gpt-3.5-turbo-0301\n",
            "ID: gpt-3.5-turbo-instruct\n",
            "ID: gpt-3.5-turbo-0613\n",
            "ID: tts-1\n",
            "ID: tts-1-1106\n",
            "ID: gpt-3.5-turbo-1106\n",
            "ID: tts-1-hd\n",
            "ID: tts-1-hd-1106\n",
            "ID: davinci-002\n"
          ]
        }
      ]
    },
    {
      "cell_type": "markdown",
      "source": [
        "**Chat Function**\n",
        "\n",
        "Function to chat. Feel free to update question that you want to ask. You can see the model used here is `gpt-3.5-turbo`, but feel free to update if you want to choose different model."
      ],
      "metadata": {
        "id": "JqsHPlVBXZZ4"
      }
    },
    {
      "cell_type": "code",
      "source": [
        "def get_chat_completion(question):\n",
        "    client = openai.OpenAI(api_key=OPENAI_API_KEY)\n",
        "    stream = client.chat.completions.create(\n",
        "        model=\"gpt-3.5-turbo\",\n",
        "        messages=[{\"role\": \"user\", \"content\": question}],\n",
        "        stream=True,\n",
        "    )\n",
        "    response = \"\"\n",
        "    for chunk in stream:\n",
        "        response += chunk.choices[0].delta.content or \"\"\n",
        "    return response\n",
        "\n",
        "# Example usage\n",
        "question = \"Tell me about Generative AI future\"\n",
        "completion = get_chat_completion(question)\n",
        "print(completion)"
      ],
      "metadata": {
        "colab": {
          "base_uri": "https://localhost:8080/"
        },
        "id": "4FBD33aSPL8U",
        "outputId": "c1bf50ae-633e-4c9f-ccf2-88d862558019"
      },
      "execution_count": 12,
      "outputs": [
        {
          "output_type": "stream",
          "name": "stdout",
          "text": [
            "Generative AI, also known as GANs (Generative Adversarial Networks), has the potential to revolutionize various industries in the near future.\n",
            "\n",
            "One of the most promising applications of generative AI is in the field of art and design. GANs can be used to create realistic images, videos, and even music that are indistinguishable from those made by humans. This could lead to a new era of creativity and innovation in the art world, with AI assisting artists in their work.\n",
            "\n",
            "In the field of healthcare, generative AI can help in drug discovery, patient diagnosis, and treatment planning. By analyzing vast amounts of medical data, GANs can generate personalized treatment plans for patients based on their unique genetic makeup and medical history.\n",
            "\n",
            "Furthermore, in the entertainment industry, generative AI can be used to create virtual actors, environments, and even entire movies. This could lead to a new era of immersive and interactive entertainment experiences for audiences around the world.\n",
            "\n",
            "Overall, the future of generative AI looks promising, with the potential to transform various industries and enhance human creativity and innovation. However, there are also ethical concerns surrounding the use of AI, which will need to be addressed as the technology continues to advance.\n"
          ]
        }
      ]
    },
    {
      "cell_type": "code",
      "source": [],
      "metadata": {
        "id": "P0upDuBKVFid"
      },
      "execution_count": null,
      "outputs": []
    }
  ]
}