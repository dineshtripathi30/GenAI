{
  "nbformat": 4,
  "nbformat_minor": 0,
  "metadata": {
    "colab": {
      "provenance": [],
      "authorship_tag": "ABX9TyPLPKWbpzVizX2jNqjDjLSm",
      "include_colab_link": true
    },
    "kernelspec": {
      "name": "python3",
      "display_name": "Python 3"
    },
    "language_info": {
      "name": "python"
    }
  },
  "cells": [
    {
      "cell_type": "markdown",
      "metadata": {
        "id": "view-in-github",
        "colab_type": "text"
      },
      "source": [
        "<a href=\"https://colab.research.google.com/github/dineshtripathi30/GenAI/blob/main/OpenAI/Quick_chat_with_openAI.ipynb\" target=\"_parent\"><img src=\"https://colab.research.google.com/assets/colab-badge.svg\" alt=\"Open In Colab\"/></a>"
      ]
    },
    {
      "cell_type": "markdown",
      "source": [
        "**Install Python openai package**"
      ],
      "metadata": {
        "id": "I3QX7JN_MPXr"
      }
    },
    {
      "cell_type": "code",
      "source": [
        "!pip install --upgrade openai"
      ],
      "metadata": {
        "colab": {
          "base_uri": "https://localhost:8080/"
        },
        "id": "Kq3AhjnpLp_G",
        "outputId": "fa8264e0-1548-4803-c8fa-e7a39e9ebafe"
      },
      "execution_count": 12,
      "outputs": [
        {
          "output_type": "stream",
          "name": "stdout",
          "text": [
            "Requirement already satisfied: openai in /usr/local/lib/python3.10/dist-packages (1.12.0)\n",
            "Requirement already satisfied: anyio<5,>=3.5.0 in /usr/local/lib/python3.10/dist-packages (from openai) (3.7.1)\n",
            "Requirement already satisfied: distro<2,>=1.7.0 in /usr/lib/python3/dist-packages (from openai) (1.7.0)\n",
            "Requirement already satisfied: httpx<1,>=0.23.0 in /usr/local/lib/python3.10/dist-packages (from openai) (0.26.0)\n",
            "Requirement already satisfied: pydantic<3,>=1.9.0 in /usr/local/lib/python3.10/dist-packages (from openai) (2.6.1)\n",
            "Requirement already satisfied: sniffio in /usr/local/lib/python3.10/dist-packages (from openai) (1.3.0)\n",
            "Requirement already satisfied: tqdm>4 in /usr/local/lib/python3.10/dist-packages (from openai) (4.66.2)\n",
            "Requirement already satisfied: typing-extensions<5,>=4.7 in /usr/local/lib/python3.10/dist-packages (from openai) (4.9.0)\n",
            "Requirement already satisfied: idna>=2.8 in /usr/local/lib/python3.10/dist-packages (from anyio<5,>=3.5.0->openai) (3.6)\n",
            "Requirement already satisfied: exceptiongroup in /usr/local/lib/python3.10/dist-packages (from anyio<5,>=3.5.0->openai) (1.2.0)\n",
            "Requirement already satisfied: certifi in /usr/local/lib/python3.10/dist-packages (from httpx<1,>=0.23.0->openai) (2024.2.2)\n",
            "Requirement already satisfied: httpcore==1.* in /usr/local/lib/python3.10/dist-packages (from httpx<1,>=0.23.0->openai) (1.0.3)\n",
            "Requirement already satisfied: h11<0.15,>=0.13 in /usr/local/lib/python3.10/dist-packages (from httpcore==1.*->httpx<1,>=0.23.0->openai) (0.14.0)\n",
            "Requirement already satisfied: annotated-types>=0.4.0 in /usr/local/lib/python3.10/dist-packages (from pydantic<3,>=1.9.0->openai) (0.6.0)\n",
            "Requirement already satisfied: pydantic-core==2.16.2 in /usr/local/lib/python3.10/dist-packages (from pydantic<3,>=1.9.0->openai) (2.16.2)\n"
          ]
        }
      ]
    },
    {
      "cell_type": "markdown",
      "source": [
        "**Assign OpenAI API Key**"
      ],
      "metadata": {
        "id": "KtE_xr-WXSIR"
      }
    },
    {
      "cell_type": "code",
      "execution_count": 2,
      "metadata": {
        "id": "K1aROn2v57nB",
        "colab": {
          "base_uri": "https://localhost:8080/"
        },
        "outputId": "b3d33536-1f6c-4ef7-b718-ee5ff99945b3"
      },
      "outputs": [
        {
          "name": "stdout",
          "output_type": "stream",
          "text": [
            "Please enter your openai key: ··········\n"
          ]
        }
      ],
      "source": [
        "# Get the openai secret key\n",
        "import getpass\n",
        "\n",
        "OPENAI_API_KEY = getpass.getpass('Please enter your openai key: ')"
      ]
    },
    {
      "cell_type": "code",
      "source": [
        "from openai import OpenAI"
      ],
      "metadata": {
        "id": "SEHVjULoPpUF"
      },
      "execution_count": 27,
      "outputs": []
    },
    {
      "cell_type": "markdown",
      "source": [
        "**List available models**"
      ],
      "metadata": {
        "id": "xX0BNXZhaBcV"
      }
    },
    {
      "cell_type": "code",
      "source": [
        "def list_openai_models():\n",
        "    client = openai.OpenAI(api_key=OPENAI_API_KEY)\n",
        "    models = client.models.list()\n",
        "    for model in models:\n",
        "        print(f\"ID: {model.id}\")\n",
        "# Example usage\n",
        "list_openai_models()\n"
      ],
      "metadata": {
        "colab": {
          "base_uri": "https://localhost:8080/"
        },
        "id": "CSiWqWXTYh5y",
        "outputId": "79b32a8d-8724-45a7-d345-e9ae12ea55cf"
      },
      "execution_count": 32,
      "outputs": [
        {
          "output_type": "stream",
          "name": "stdout",
          "text": [
            "ID: dall-e-3\n",
            "ID: text-embedding-3-large\n",
            "ID: gpt-3.5-turbo-instruct-0914\n",
            "ID: dall-e-2\n",
            "ID: whisper-1\n",
            "ID: gpt-3.5-turbo-16k-0613\n",
            "ID: gpt-3.5-turbo-0613\n",
            "ID: babbage-002\n",
            "ID: text-embedding-ada-002\n",
            "ID: gpt-3.5-turbo-16k\n",
            "ID: gpt-3.5-turbo-0125\n",
            "ID: gpt-3.5-turbo\n",
            "ID: text-embedding-3-small\n",
            "ID: tts-1-hd\n",
            "ID: tts-1-hd-1106\n",
            "ID: gpt-3.5-turbo-0301\n",
            "ID: gpt-3.5-turbo-instruct\n",
            "ID: tts-1\n",
            "ID: tts-1-1106\n",
            "ID: gpt-3.5-turbo-1106\n",
            "ID: davinci-002\n"
          ]
        }
      ]
    },
    {
      "cell_type": "markdown",
      "source": [
        "**Chat Function**\n",
        "\n",
        "Function to chat. Feel free to update question that you want to ask. You can see the model used here is `gpt-3.5-turbo`, but feel free to update if you want to choose different model."
      ],
      "metadata": {
        "id": "JqsHPlVBXZZ4"
      }
    },
    {
      "cell_type": "code",
      "source": [
        "def get_chat_completion(question):\n",
        "    client = openai.OpenAI(api_key=OPENAI_API_KEY)\n",
        "    stream = client.chat.completions.create(\n",
        "        model=\"gpt-3.5-turbo\",\n",
        "        messages=[{\"role\": \"user\", \"content\": question}],\n",
        "        stream=True,\n",
        "    )\n",
        "    response = \"\"\n",
        "    for chunk in stream:\n",
        "        response += chunk.choices[0].delta.content or \"\"\n",
        "    return response\n",
        "\n",
        "# Example usage\n",
        "question = \"Tell me about Generative AI future\"\n",
        "completion = get_chat_completion(question)\n",
        "print(completion)"
      ],
      "metadata": {
        "colab": {
          "base_uri": "https://localhost:8080/"
        },
        "id": "4FBD33aSPL8U",
        "outputId": "2d8d76dd-0374-4166-da11-2222d264acc1"
      },
      "execution_count": 34,
      "outputs": [
        {
          "output_type": "stream",
          "name": "stdout",
          "text": [
            "Generative AI technology is rapidly advancing and evolving, and its future looks promising and exciting. Here are some key trends and developments that we can expect to see in the generative AI space in the near future:\n",
            "\n",
            "1. Improved creativity and innovation: Generative AI systems are becoming increasingly sophisticated and are able to generate more complex and creative outputs. This will open up new possibilities for creative applications such as art, music, design, and storytelling.\n",
            "\n",
            "2. Enhanced personalization and customization: Generative AI algorithms are being used to create personalized content and experiences for users in various fields such as marketing, e-commerce, and entertainment. This will enable businesses to offer more tailored and engaging interactions with their customers.\n",
            "\n",
            "3. Better natural language processing: Generative AI models are being developed to better understand and generate human-like text and conversations. This will enable more seamless interactions between humans and machines, and will drive advancements in chatbots, virtual assistants, and language translation services.\n",
            "\n",
            "4. Ethical and regulatory considerations: As generative AI technology becomes more powerful and pervasive, there will be an increasing need to address ethical issues such as bias, privacy, and accountability. Regulators and policymakers will need to establish guidelines and regulations to ensure that generative AI is used responsibly and ethically.\n",
            "\n",
            "5. Continued research and development: Researchers and developers are constantly pushing the boundaries of generative AI technology, exploring new techniques and applications. This will lead to further breakthroughs in areas such as image generation, video synthesis, and reinforcement learning.\n",
            "\n",
            "Overall, the future of generative AI looks bright, with immense potential to transform industries, enhance creativity, and improve human-machine interactions. However, it is important to proceed with caution and address the ethical implications of this technology to ensure that it benefits society as a whole.\n"
          ]
        }
      ]
    },
    {
      "cell_type": "code",
      "source": [],
      "metadata": {
        "id": "P0upDuBKVFid"
      },
      "execution_count": null,
      "outputs": []
    }
  ]
}